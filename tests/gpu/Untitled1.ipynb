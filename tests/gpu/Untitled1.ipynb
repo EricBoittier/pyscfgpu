{
 "cells": [
  {
   "cell_type": "code",
   "execution_count": null,
   "id": "5f04b6d9-c6e0-4984-9b43-f8fd513d080e",
   "metadata": {},
   "outputs": [],
   "source": []
  }
 ],
 "metadata": {
  "kernelspec": {
   "display_name": "physnetjax",
   "language": "python",
   "name": "physnetjax"
  },
  "language_info": {
   "codemirror_mode": {
    "name": "ipython",
    "version": 3
   },
   "file_extension": ".py",
   "mimetype": "text/x-python",
   "name": "python",
   "nbconvert_exporter": "python",
   "pygments_lexer": "ipython3",
   "version": "3.12.5"
  }
 },
 "nbformat": 4,
 "nbformat_minor": 5
}
